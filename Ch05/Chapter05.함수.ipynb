{
 "cells": [
  {
   "cell_type": "markdown",
   "metadata": {},
   "source": [
    "# 함수\n",
    "\n",
    "## 함수 기초\n",
    "\n",
    "**함수** : 어떤 일을 수행하는 코드의 덩어리, 또는 코드의 묶음\n",
    "\n",
    "**함수의 장점**\n",
    "<ol>\n",
    "    <li>필요할 때마다 호출 가능</li>\n",
    "    <li>논리적인 단위로 분할 가능</li>\n",
    "    <li>코드의 캡슐화</li>\n",
    "</ol>\n",
    "\n",
    "## 함수의 선언\n",
    "\n",
    "![image.png](image/1.png)\n",
    "\n",
    "**def** : 'definition'의 줄임말로, 함수를 정의하여 시작한다는 의미.\n",
    "\n",
    "**함수 입력 규칙** : 함수 이름은 마음대로 지정할 수 있지만, 일반적으로 다음과 같은 규칙 사용\n",
    "<ul>\n",
    "    <li>소문자로 입력</li>\n",
    "    <li>띄어쓰기를 할 경우에는 _기호를 사용 ex)save_model</li>\n",
    "    <li>행위를 기록하므로 동사와 명사를 함께 사용하는 경우가 많음. ex)find_number</li>\n",
    "    <li>외부에 공개하는 함수일 경우, 줄임말을 사용하지 않고 짧고 명료한 이름으로 정함</li>\n",
    "</ul>\n",
    "\n",
    "**매개변수(parameter)** : 함수에서 입력값으로 사용하는 변수, 1개 이상의 값을 적을 수 있음\n",
    "\n",
    "\n",
    "**수행문** : 수행문은 반드시 들여쓰기 한 후 코드를 입력해야한다.\n"
   ]
  },
  {
   "cell_type": "markdown",
   "metadata": {},
   "source": [
    "---\n",
    "## 함수의 호출방식\n",
    "\n",
    "**call by value** : <li>함수에 인수를 넘길 때 값만 넘김</li><li>함수 안의 인수 값 변경 시, 호출된 변수에 영향을 주지 않음</li>\n",
    "\n",
    "**call by reference** : <li>함수에 인수를 넘길 때 메모리 주소를 넘김</li><li>함수 안의 인수값 변경 시, 호출된 변수값도 변경됨</li>\n",
    "\n",
    "![image.png](image/2.png)\n",
    "\n",
    "파이썬은 객체호출 **(call by object reference)** 이라는 방식을 사용.\n",
    "\n",
    "파이썬에서는 새로운 값을 할당하거나 해당 객체를 지울 때는 영향을 주지 않고, 단순히 해당 객체에 값을 추가할때는 영향을 준다\n",
    "\n",
    "## Call by object reference"
   ]
  },
  {
   "cell_type": "code",
   "execution_count": 5,
   "metadata": {},
   "outputs": [
    {
     "data": {
      "text/plain": [
       "1"
      ]
     },
     "execution_count": 5,
     "metadata": {},
     "output_type": "execute_result"
    }
   ],
   "source": [
    ">>> def test(a):\n",
    "...   a += 10\n",
    "...\n",
    ">>> a = 1\n",
    ">>> test(a)\n",
    ">>> a"
   ]
  },
  {
   "cell_type": "markdown",
   "metadata": {},
   "source": [
    "-> call by value처럼 보임"
   ]
  },
  {
   "cell_type": "code",
   "execution_count": 3,
   "metadata": {},
   "outputs": [
    {
     "data": {
      "text/plain": [
       "['teddy', 'bear']"
      ]
     },
     "execution_count": 3,
     "metadata": {},
     "output_type": "execute_result"
    }
   ],
   "source": [
    ">>> def test(a):\n",
    "...   a.append('bear')\n",
    "...\n",
    ">>> b = ['teddy']\n",
    ">>> test(b)\n",
    ">>> b"
   ]
  },
  {
   "cell_type": "markdown",
   "metadata": {},
   "source": [
    "-> call by reference처럼 보임"
   ]
  },
  {
   "cell_type": "code",
   "execution_count": 7,
   "metadata": {},
   "outputs": [
    {
     "data": {
      "text/plain": [
       "(140275802477968, 140275802476416)"
      ]
     },
     "execution_count": 7,
     "metadata": {},
     "output_type": "execute_result"
    }
   ],
   "source": [
    ">>> a = 10\n",
    ">>> b = a\n",
    ">>> a += 100\n",
    ">>> a, b\n",
    "(110, 10)\n",
    ">>> id(a), id(b)\n",
    "(140275802477968, 140275802476416)"
   ]
  },
  {
   "cell_type": "code",
   "execution_count": 8,
   "metadata": {},
   "outputs": [
    {
     "data": {
      "text/plain": [
       "(4531211008, 4531211008)"
      ]
     },
     "execution_count": 8,
     "metadata": {},
     "output_type": "execute_result"
    }
   ],
   "source": [
    ">>> a = [1, 2, 3]\n",
    ">>> b = a\n",
    ">>> a += [4, 5, 6]\n",
    ">>> a, b\n",
    "([1, 2, 3, 4, 5, 6], [1, 2, 3, 4, 5, 6])\n",
    ">>> id(a), id(b)\n",
    "(4531211008, 4531211008)"
   ]
  },
  {
   "cell_type": "markdown",
   "metadata": {},
   "source": [
    "## 변수의 사용 범위\n",
    "<ul>\n",
    "    <li>변수의 사용 범위(scoping rule) : 변수가 코드에서 사용되는 범위</li>\n",
    "    <li>지역변수(local variable) : 함수 안에서만 사용</li>\n",
    "    <li>전역변수(global variable) : 프로그램 전체에서 사용</li>\n",
    "</ul>\n",
    "\n"
   ]
  },
  {
   "cell_type": "code",
   "execution_count": 3,
   "metadata": {},
   "outputs": [
    {
     "name": "stdout",
     "output_type": "stream",
     "text": [
      "10\n",
      "In Function: 20\n",
      "In Main: 10\n"
     ]
    },
    {
     "ename": "NameError",
     "evalue": "name 't' is not defined",
     "output_type": "error",
     "traceback": [
      "\u001b[1;31m---------------------------------------------------------------------------\u001b[0m",
      "\u001b[1;31mNameError\u001b[0m                                 Traceback (most recent call last)",
      "\u001b[1;32m<ipython-input-3-680e07080c71>\u001b[0m in \u001b[0;36m<module>\u001b[1;34m\u001b[0m\n\u001b[0;32m      7\u001b[0m \u001b[0mtest\u001b[0m\u001b[1;33m(\u001b[0m\u001b[0mx\u001b[0m\u001b[1;33m)\u001b[0m\u001b[1;33m\u001b[0m\u001b[1;33m\u001b[0m\u001b[0m\n\u001b[0;32m      8\u001b[0m \u001b[0mprint\u001b[0m\u001b[1;33m(\u001b[0m\u001b[1;34m\"In Main:\"\u001b[0m\u001b[1;33m,\u001b[0m\u001b[0mx\u001b[0m\u001b[1;33m)\u001b[0m\u001b[1;33m\u001b[0m\u001b[1;33m\u001b[0m\u001b[0m\n\u001b[1;32m----> 9\u001b[1;33m \u001b[0mprint\u001b[0m\u001b[1;33m(\u001b[0m\u001b[1;34m\"In Main:\"\u001b[0m\u001b[1;33m,\u001b[0m\u001b[0mt\u001b[0m\u001b[1;33m)\u001b[0m\u001b[1;33m\u001b[0m\u001b[1;33m\u001b[0m\u001b[0m\n\u001b[0m",
      "\u001b[1;31mNameError\u001b[0m: name 't' is not defined"
     ]
    }
   ],
   "source": [
    "def test(t):\n",
    "    print(x)\n",
    "    t=20\n",
    "    print(\"In Function:\",t)\n",
    "\n",
    "x=10\n",
    "test(x)\n",
    "print(\"In Main:\",x)\n",
    "print(\"In Main:\",t)"
   ]
  },
  {
   "cell_type": "markdown",
   "metadata": {},
   "source": [
    "\n",
    "x는 전역변수, t는 함수 내에서 사용되는 지역변수\n",
    "\n",
    "함수 밖을 나갔기 때문에 Line 9 에서 오류 발생"
   ]
  },
  {
   "cell_type": "code",
   "execution_count": 4,
   "metadata": {},
   "outputs": [
    {
     "name": "stdout",
     "output_type": "stream",
     "text": [
      "I Love London!\n",
      "I Love Paris!\n"
     ]
    }
   ],
   "source": [
    "def f():\n",
    "    s=\"I Love London!\"\n",
    "    print(s)\n",
    "    \n",
    "s=\"I Love Paris!\"\n",
    "f()\n",
    "print(s)"
   ]
  },
  {
   "cell_type": "code",
   "execution_count": 5,
   "metadata": {},
   "outputs": [
    {
     "name": "stdout",
     "output_type": "stream",
     "text": [
      "I Love London!\n",
      "I Love London!\n"
     ]
    }
   ],
   "source": [
    "def f():\n",
    "    global s\n",
    "    s=\"I Love London!\"\n",
    "    print(s)\n",
    "    \n",
    "s=\"I Love Paris!\"\n",
    "f()\n",
    "print(s)"
   ]
  },
  {
   "cell_type": "markdown",
   "metadata": {},
   "source": [
    "## 재귀함수\n"
   ]
  },
  {
   "cell_type": "code",
   "execution_count": 6,
   "metadata": {},
   "outputs": [
    {
     "name": "stdout",
     "output_type": "stream",
     "text": [
      "Input Number for Factoral Calculation: 5\n",
      "120\n"
     ]
    }
   ],
   "source": [
    "def factorial(n):\n",
    "    if n==1:\n",
    "        return 1\n",
    "    else:\n",
    "        return n*factorial(n-1)\n",
    "\n",
    "print(factorial(int(input(\"Input Number for Factoral Calculation: \"))))"
   ]
  },
  {
   "cell_type": "markdown",
   "metadata": {},
   "source": [
    "---"
   ]
  },
  {
   "cell_type": "markdown",
   "metadata": {},
   "source": [
    "# 함수의 인수\n",
    "\n",
    "## 키워드 인수\n"
   ]
  },
  {
   "cell_type": "code",
   "execution_count": 2,
   "metadata": {},
   "outputs": [
    {
     "name": "stdout",
     "output_type": "stream",
     "text": [
      "Hello teamlab,my name is sungchul\n",
      "Hello teamlab,my name is sungchul\n"
     ]
    }
   ],
   "source": [
    "def print_something(my_name,your_name):\n",
    "    print(\"Hello {0},my name is {1}\".format(your_name,my_name))\n",
    "    \n",
    "print_something(\"sungchul\",\"teamlab\")\n",
    "print_something(your_name=\"teamlab\",my_name=\"sungchul\")"
   ]
  },
  {
   "cell_type": "markdown",
   "metadata": {},
   "source": [
    "## 디폴트 인수\n"
   ]
  },
  {
   "cell_type": "code",
   "execution_count": 5,
   "metadata": {},
   "outputs": [
    {
     "name": "stdout",
     "output_type": "stream",
     "text": [
      "Hello teamlab,my name is sungchul\n",
      "Hello teamlab,my name is sungchul\n"
     ]
    }
   ],
   "source": [
    "def print_something(my_name,your_name=\"teamlab\"):\n",
    "    print(\"Hello {0},my name is {1}\".format(your_name,my_name))\n",
    "    \n",
    "print_something(\"sungchul\",\"teamlab\")\n",
    "print_something(\"sungchul\")"
   ]
  },
  {
   "cell_type": "markdown",
   "metadata": {},
   "source": [
    "## 가변 인수\n",
    "\n",
    "(*)사용"
   ]
  },
  {
   "cell_type": "code",
   "execution_count": 6,
   "metadata": {},
   "outputs": [
    {
     "name": "stdout",
     "output_type": "stream",
     "text": [
      "15\n"
     ]
    }
   ],
   "source": [
    "def asterisk_test(a,b,*args):\n",
    "    return a+b+sum(args)\n",
    "\n",
    "print(asterisk_test(1,2,3,4,5))"
   ]
  },
  {
   "cell_type": "code",
   "execution_count": 11,
   "metadata": {},
   "outputs": [
    {
     "name": "stdout",
     "output_type": "stream",
     "text": [
      "(3, 4, [5, 6, 7])\n"
     ]
    }
   ],
   "source": [
    "def asterisk_test2(*args):\n",
    "    x,y,*z=args\n",
    "    return x,y,z\n",
    "\n",
    "print(asterisk_test2(3,4,5,6,7))"
   ]
  },
  {
   "cell_type": "markdown",
   "metadata": {},
   "source": [
    "## 키워드 가변 인수\n",
    "\n",
    "dictionary 자료형으로 사용\n",
    "\n",
    "(**)사용"
   ]
  },
  {
   "cell_type": "code",
   "execution_count": 5,
   "metadata": {},
   "outputs": [
    {
     "name": "stdout",
     "output_type": "stream",
     "text": [
      "{'first': 3, 'second': 4, 'third': 5}\n",
      "second's value 4\n",
      "first's value 3\n",
      "third's value 5\n"
     ]
    }
   ],
   "source": [
    "def kwargs_test(**kwargs):\n",
    "    print(kwargs)\n",
    "    print(\"second's value {second}\".format(**kwargs))\n",
    "    print(\"first's value {first}\".format(**kwargs))\n",
    "    print(\"third's value {third}\".format(**kwargs))\n",
    "    \n",
    "kwargs_test(first=3,second=4,third=5)"
   ]
  },
  {
   "cell_type": "markdown",
   "metadata": {},
   "source": [
    "---"
   ]
  },
  {
   "cell_type": "markdown",
   "metadata": {},
   "source": [
    "# 좋은 코드를 작성하는 방법\n",
    "\n",
    "## 좋은 코드의 의미\n",
    "\n",
    "프로그래밍은 팀플레이이기때문에 프로그래밍을 하는 규칙이 있어야 한다.\n",
    "\n",
    "### 코딩 규칙\n",
    "\n",
    "<ul>\n",
    "    <li>들여쓰기는 4 스페이스</li>\n",
    "    <li>한 줄은 최대 79자까지</li>\n",
    "    <li>불필요한 공백은 피함</li>\n",
    "    <li>~~~</li>\n",
    "</ul>\n",
    "\n",
    "파이썬에서는 이러한 규칙 중 파이썬 개발자가 직접 정한 것이 있다. 이를 PEP 8(Python Enhance Proposal 8) 이라고 하는데, 이는 파이썬 개발자들이 앞으로 필요한 파이썬의 기능이나 여러가지 부수적인 것을 정의한 문서이다\n",
    "\n",
    "https://www.python.org/dev/peps/pep-0008/\n",
    "\n",
    "![image.png](image/3.png)"
   ]
  },
  {
   "cell_type": "code",
   "execution_count": null,
   "metadata": {},
   "outputs": [],
   "source": []
  }
 ],
 "metadata": {
  "kernelspec": {
   "display_name": "Python 3",
   "language": "python",
   "name": "python3"
  },
  "language_info": {
   "codemirror_mode": {
    "name": "ipython",
    "version": 3
   },
   "file_extension": ".py",
   "mimetype": "text/x-python",
   "name": "python",
   "nbconvert_exporter": "python",
   "pygments_lexer": "ipython3",
   "version": "3.7.1"
  }
 },
 "nbformat": 4,
 "nbformat_minor": 2
}
