{
 "cells": [
  {
   "cell_type": "markdown",
   "metadata": {},
   "source": [
    "# 자료구조\n",
    "자료구조 : 데이터를 관리하는 방식, 메모리를 효율적으로 사용, 실행 시간 감소"
   ]
  },
  {
   "cell_type": "markdown",
   "metadata": {},
   "source": [
    "## 스택\n",
    "Last In First Out (LIFO)  \n",
    "리스트를 사용  \n",
    "스택에 데이터를 저장 : push, 추출 : pop   \n",
    "a=[1,2,3]  \n",
    "a.append(10)  \n",
    "a  \n",
    "[1,2,3,10]  \n",
    "a.pop()  \n",
    "10  "
   ]
  },
  {
   "cell_type": "code",
   "execution_count": 1,
   "metadata": {},
   "outputs": [
    {
     "name": "stdout",
     "output_type": "stream",
     "text": [
      "Input a word: PYTHON\n",
      "['P', 'Y', 'T', 'H', 'O', 'N']\n",
      "['N', 'O', 'H', 'T', 'Y', 'P']\n",
      "NOHTYP\n"
     ]
    }
   ],
   "source": [
    "word = input(\"Input a word: \")\n",
    "world_list = list(word)\n",
    "print(world_list)\n",
    "\n",
    "result = [ ]\n",
    "for _ in range(len(world_list)):\n",
    "    result.append(world_list.pop())\n",
    "    \n",
    "print(result)\n",
    "print(word[::-1])"
   ]
  },
  {
   "cell_type": "markdown",
   "metadata": {},
   "source": [
    "## 큐\n",
    "First In First Out (FIFO)  \n",
    "스택과의 차이 : pop(0)  \n",
    "a = [1,2,3]  \n",
    "a.append(10)  \n",
    "a = [1,2,3,10]  \n",
    "a.pop(0)  \n",
    "1  \n"
   ]
  },
  {
   "cell_type": "markdown",
   "metadata": {},
   "source": [
    "## 튜플\n",
    "리스트와 같은 개념 but 데이터를 변경 할 수 없다.  \n",
    "대괄호가 아닌 소괄호 사용\n",
    "t = (1,2,3)\n",
    "협업 시 다른 사람들이 값을 쉽게 바꿀수없게 하기 위해 사용"
   ]
  },
  {
   "cell_type": "markdown",
   "metadata": {},
   "source": [
    "## 세트\n",
    "값을 순서 없이 저장하면서 중복을 불허하는 자료형  \n",
    "세트는 튜플과 다르게 삭제나 변경 가능  \n",
    "s=set([1,2,3,1,2,3,])  \n",
    "s  \n",
    "{1,2,3}  \n",
    "* add() : 원소 하나를 추가  \n",
    "* remove() or discard() : 원소 하나를 제거\n",
    "* update() : 새로운 리스트를 그대로 추가\n",
    "* clear() : 모든 변수를 지우기\n",
    "* union : 합집합 ( | )\n",
    "* intersection : 교집합 ( & )\n",
    "* difference : 차집합 ( - )\n"
   ]
  },
  {
   "cell_type": "markdown",
   "metadata": {},
   "source": [
    "## 딕셔너리\n",
    "키(key)와 값(value)  \n",
    "변수 = {키1:값1, 키2:값2, 키3:값3, ... }  \n",
    "변수.keys() : 키만 출력  \n",
    "변수.values() : 값만 출력  \n",
    "변수.items() : 딕셔너리 데이터 출력  "
   ]
  },
  {
   "cell_type": "markdown",
   "metadata": {},
   "source": [
    "# collections 모듈\n",
    "리스트,튜플,딕셔너리등을 확장하여 제작된 파이썬의 내장 모듈  \n",
    "파이썬에서 모듈 호출하는 법  \n",
    "from colletions import deque  \n",
    "from colletions import OrderedDict  \n",
    "from colletions import defaultdict  \n",
    "from colletions import Counter  \n",
    "from colletions import namedtuple  \n"
   ]
  },
  {
   "cell_type": "markdown",
   "metadata": {},
   "source": [
    "### deque 모듈\n",
    "스택과 큐를 모두 지원하는 모듈  \n",
    "deque_list.pop() : pop   \n",
    "deque_list.appendleft() : 왼쪽부터 입력  \n",
    "deque모듈은 연결 리스트의 특성을 갖는다  \n",
    "rotate() : 인덱스 값들 이동  "
   ]
  },
  {
   "cell_type": "markdown",
   "metadata": {},
   "source": [
    "## OrderedDict 모듈\n",
    "순서를 가진 딕셔너리 객체이다.\n"
   ]
  },
  {
   "cell_type": "code",
   "execution_count": 2,
   "metadata": {},
   "outputs": [
    {
     "name": "stdout",
     "output_type": "stream",
     "text": [
      "x 100\n",
      "l 500\n",
      "y 200\n",
      "z 300\n"
     ]
    }
   ],
   "source": [
    "d = {}\n",
    "d['x'] = 100\n",
    "d['l'] = 500\n",
    "d['y'] = 200\n",
    "d['z'] = 300\n",
    "\n",
    "for k,v in d.items():\n",
    "    print(k,v)"
   ]
  },
  {
   "cell_type": "code",
   "execution_count": 3,
   "metadata": {},
   "outputs": [
    {
     "name": "stdout",
     "output_type": "stream",
     "text": [
      "x 100\n",
      "y 200\n",
      "z 300\n",
      "l 500\n"
     ]
    }
   ],
   "source": [
    "from collections import OrderedDict\n",
    "\n",
    "d = OrderedDict()\n",
    "d['x'] = 100\n",
    "d['y'] = 200\n",
    "d['z'] = 300\n",
    "d['l'] = 500\n",
    "\n",
    "for k,v in d.items():\n",
    "    print(k,v)"
   ]
  },
  {
   "cell_type": "code",
   "execution_count": 4,
   "metadata": {},
   "outputs": [
    {
     "name": "stdout",
     "output_type": "stream",
     "text": [
      "l 500\n",
      "x 100\n",
      "y 200\n",
      "z 300\n"
     ]
    }
   ],
   "source": [
    "def sort_by_key(t):\n",
    "    return t[0]\n",
    "\n",
    "from collections import OrderedDict\n",
    "\n",
    "d = dict()\n",
    "d['x'] = 100\n",
    "d['y'] = 200\n",
    "d['z'] = 300\n",
    "d['l'] = 500\n",
    "\n",
    "for k,v in OrderedDict(sorted(d.items(), key=sort_by_key)).items():\n",
    "    print(k,v)"
   ]
  },
  {
   "cell_type": "markdown",
   "metadata": {},
   "source": [
    "## defaultdict 모듈\n",
    "딕셔너리의 변수를 생성할 때 키에 기본 값을 지정하는 방법이다.\n"
   ]
  },
  {
   "cell_type": "code",
   "execution_count": 5,
   "metadata": {},
   "outputs": [
    {
     "name": "stdout",
     "output_type": "stream",
     "text": [
      "0\n"
     ]
    }
   ],
   "source": [
    "from collections import defaultdict\n",
    "\n",
    "d = defaultdict(lambda:0)\n",
    "print(d[\"first\"])"
   ]
  },
  {
   "cell_type": "code",
   "execution_count": 6,
   "metadata": {},
   "outputs": [
    {
     "name": "stdout",
     "output_type": "stream",
     "text": [
      "dict_items([('yellow', [1, 3]), ('blue', [2, 4]), ('red', [1])])\n"
     ]
    },
    {
     "data": {
      "text/plain": [
       "[('blue', [2, 4]), ('red', [1]), ('yellow', [1, 3])]"
      ]
     },
     "execution_count": 6,
     "metadata": {},
     "output_type": "execute_result"
    }
   ],
   "source": [
    "from collections import defaultdict\n",
    "\n",
    "s = [('yellow',1),('blue',2),('yellow', 3),('blue', 4),('red',1)]\n",
    "d = defaultdict(list)\n",
    "for k,v in s:\n",
    "    d[k].append(v)\n",
    "    \n",
    "print(d.items())\n",
    "[('blue',[2,4]),('red', [1]),('yellow', [1,3])]"
   ]
  },
  {
   "cell_type": "markdown",
   "metadata": {},
   "source": [
    "## Counter 모듈\n",
    "자료형의 데이터 요소 개수를 딕셔너리 형태로 반환하는 자료구조  \n",
    "from collections import Counter  \n",
    "text = list(\"gallahad\")  \n",
    "c=Counter(text)  \n",
    "c  \n",
    "Counter({'a':3, 'l':2, 'g':1, 'h':1, 'd':1})  \n",
    "c[\"a\"]  \n",
    "3  "
   ]
  },
  {
   "cell_type": "markdown",
   "metadata": {},
   "source": [
    "## namedtuple 모듈\n",
    "namedtuple 모듈은 튜플의 형태로 데이터 구조체를 저장하는 방법  \n",
    "from collections import namedtuple  \n",
    "Point = namedtuple('Point',['x','y'])  \n",
    "p=Point(11, y=22)  \n",
    "p.x, p.y  \n",
    "(11, 22)  \n",
    "print(p[0] + p[1])  \n",
    "33  \n"
   ]
  },
  {
   "cell_type": "code",
   "execution_count": null,
   "metadata": {},
   "outputs": [],
   "source": []
  }
 ],
 "metadata": {
  "kernelspec": {
   "display_name": "Python 3",
   "language": "python",
   "name": "python3"
  },
  "language_info": {
   "codemirror_mode": {
    "name": "ipython",
    "version": 3
   },
   "file_extension": ".py",
   "mimetype": "text/x-python",
   "name": "python",
   "nbconvert_exporter": "python",
   "pygments_lexer": "ipython3",
   "version": "3.7.3"
  }
 },
 "nbformat": 4,
 "nbformat_minor": 2
}
