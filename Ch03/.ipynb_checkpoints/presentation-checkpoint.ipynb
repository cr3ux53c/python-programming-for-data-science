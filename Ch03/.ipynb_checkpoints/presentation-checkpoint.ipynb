{
 "cells": [
  {
   "cell_type": "markdown",
   "metadata": {
    "pycharm": {
     "name": "#%% md\n"
    }
   },
   "source": [
    "# 1. 표준 입출력\n"
   ]
  },
  {
   "cell_type": "markdown",
   "metadata": {
    "pycharm": {
     "name": "#%% md\n"
    }
   },
   "source": [
    "### input( ) 함수: 표준 입력 함수로, 사용자가 문자열을 콘솔 창에 입력할 수 있게 해 준다.\n"
   ]
  },
  {
   "cell_type": "code",
   "execution_count": 4,
   "metadata": {
    "pycharm": {
     "is_executing": false,
     "name": "#%%\n"
    },
    "scrolled": true
   },
   "outputs": [
    {
     "name": "stdout",
     "output_type": "stream",
     "text": [
      "Enter your name:\n",
      "fdjskafdsa\n",
      "Hi fdjskafdsa How are you today?\n"
     ]
    }
   ],
   "source": [
    "print(\"Enter your name:\")\n",
    "somebody = input()                    # 콘솔 창에서 입력한 값을 somebody에 저장\n",
    "print(\"Hi\", somebody, \"How are you today?\")\n"
   ]
  },
  {
   "cell_type": "markdown",
   "metadata": {
    "pycharm": {
     "name": "#%% md\n"
    }
   },
   "source": [
    "### 더 간편하게\n"
   ]
  },
  {
   "cell_type": "code",
   "execution_count": null,
   "metadata": {
    "pycharm": {
     "name": "#%%\n"
    }
   },
   "outputs": [],
   "source": [
    "somebody = input(\"Enter your name:\")\n",
    "print(\"Hi %s How are you today?\" % somebody)\n"
   ]
  },
  {
   "cell_type": "code",
   "execution_count": 3,
   "metadata": {
    "pycharm": {
     "name": "#%%\n"
    }
   },
   "outputs": [
    {
     "name": "stdout",
     "output_type": "stream",
     "text": [
      "온도를 입력하세요: 12\n",
      "12.0\n"
     ]
    }
   ],
   "source": [
    "print(float(input(\"온도를 입력하세요: \"))) # 바로 형 변환\n"
   ]
  },
  {
   "cell_type": "markdown",
   "metadata": {
    "pycharm": {
     "name": "#%% md\n"
    }
   },
   "source": [
    "### input( ) 함수, print( ) 함수, 간단한 사칙연산을 이용하여 섭씨온도를 화씨온도로 변환하는 변환기(Fahrenheit temperature converter) 프로그램을 만든다. 섭씨온도와 화씨온도의 변환 공식은 다음과 같다.\n",
    "### 화씨온도(ºF) = (섭씨온도(ºC) * 1.8) + 32\n"
   ]
  },
  {
   "cell_type": "code",
   "execution_count": null,
   "metadata": {
    "pycharm": {
     "is_executing": false,
     "name": "#%%\n"
    }
   },
   "outputs": [],
   "source": [
    "c = float(input(\"섭씨온도 입력: \"))\n",
    "print(\"섭씨 %.2f도는 화씨%.2f도 입니다.\" % (c, c * 1.8+32))\n"
   ]
  },
  {
   "cell_type": "markdown",
   "metadata": {
    "pycharm": {
     "name": "#%% md\n"
    }
   },
   "source": [
    "# 2. 리스트(List)\n",
    "### 하나의 변수에 여러 값을 할당하는 자료형이다. \n",
    "### 파이썬에서는 리스트처럼 여러 데이터를 하나의 변수에 할당하는 기법을 시퀀스 자료형이라고 한다. 시퀀스 자료형은 여러 자료를 순서대로 넣는다는 뜻이다. \n",
    "### 리스트는 하나의 자료형으로만 저장하지 않고, 정수형이나 실수형 같은 다양한 자료형을 포함할 수 있다.\n",
    "### 리스트 인덱싱: 리스트에 있는 값에 접근하기 위해, 이 값의 상대적인 주소를 사용하는 것이다."
   ]
  },
  {
   "cell_type": "code",
   "execution_count": 10,
   "metadata": {
    "pycharm": {
     "is_executing": false,
     "name": "#%%\n"
    }
   },
   "outputs": [
    {
     "name": "stdout",
     "output_type": "stream",
     "text": [
      "red\n",
      "green\n",
      "6\n",
      "['blue', 'green']\n",
      "['blue', 'green', 'yellow', 'pink', 'brown']\n",
      "['red', 'blue', 'green', 'yellow', 'pink', 'brown']\n",
      "['red', 'blue', 'green', 'yellow', 'pink', 'brown']\n",
      "['red', 'blue', 'green', 'yellow', 'pink', 'brown']\n",
      "['red', 'green', 'pink']\n",
      "['red', 'blue', 'green', 'yellow', 'pink', 'brown', 'red', 'blue', 'green', 'yellow', 'pink', 'brown']\n",
      "['red', 'blue', 'green', 'yellow', 'pink', 'brown', 'white']\n",
      "['red', 'blue', 'green', 'yellow', 'pink', 'brown', 'white', 'black', 'gray']\n",
      "['red', 'blue', 'orange', 'green', 'yellow', 'pink', 'brown', 'white', 'black', 'gray']\n",
      "['blue', 'orange', 'green', 'yellow', 'pink', 'brown', 'white', 'black', 'gray']\n",
      "['blue', 'orange', 'yellow', 'pink', 'brown', 'white', 'black', 'gray']\n"
     ]
    }
   ],
   "source": [
    "colors = ['red', 'blue', 'green', 'yellow', 'pink', 'brown']\n",
    "print(colors[0])\n",
    "print(colors[2])\n",
    "print(len(colors))\n",
    "print(colors[1:3]) # 슬라이싱 (마지막 -1 까지 출력된다.)\n",
    "print(colors[1:])\n",
    "print(colors)\n",
    "print(colors[:])\n",
    "print(colors[-50:50])\n",
    "print(colors[::2])\n",
    "print(colors*2)\n",
    "colors.append('white')\n",
    "print(colors)\n",
    "colors.extend(['black', 'gray'])\n",
    "print(colors)\n",
    "colors.insert(2, 'orange')\n",
    "print(colors)\n",
    "colors.remove('red')\n",
    "print(colors)\n",
    "del colors[2]\n",
    "print(colors)"
   ]
  },
  {
   "cell_type": "markdown",
   "metadata": {
    "pycharm": {
     "name": "#%% md\n"
    }
   },
   "source": [
    "## 2차원 리스트"
   ]
  },
  {
   "cell_type": "code",
   "execution_count": null,
   "metadata": {
    "pycharm": {
     "name": "#%%\n"
    }
   },
   "outputs": [],
   "source": [
    "matrix = [[1,2,3],[4,5,6],[7,8,9]]\n",
    "print(matrix[2,3])\n",
    "\n"
   ]
  }
 ],
 "metadata": {
  "kernelspec": {
   "display_name": "Python 3",
   "language": "python",
   "name": "python3"
  },
  "language_info": {
   "codemirror_mode": {
    "name": "ipython",
    "version": 3
   },
   "file_extension": ".py",
   "mimetype": "text/x-python",
   "name": "python",
   "nbconvert_exporter": "python",
   "pygments_lexer": "ipython3",
   "version": "3.7.3"
  },
  "pycharm": {
   "stem_cell": {
    "cell_type": "raw",
    "metadata": {
     "collapsed": false
    },
    "source": []
   }
  }
 },
 "nbformat": 4,
 "nbformat_minor": 1
}
