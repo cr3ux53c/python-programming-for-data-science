{
 "cells": [
  {
   "cell_type": "markdown",
   "metadata": {
    "collapsed": true,
    "pycharm": {
     "name": "#%% md\n"
    }
   },
   "source": [
    "# XML\n",
    "* XML(eXtensible Markup Language)은 확장적인 마크업(markup) 언어라는 뜻으로, 데이터의 구조와 의미를 설명하는 태그를 사용하여 어떤 데이터의 속성과 값을 표현하는 언어이다. 즉, 시작 태그와 종료 태그 사이에 어떤 값이 있고, 그 값은 태그의 이름으로 만들어진 속성에 대한 값이 된다.\n",
    "* 현재 XML은 10년 전보다 그 중요성이 매우 떨어졌다. 가장 큰 이유는 XML이 데이터베이스보다 좀 더 자유롭게 데이터를 저장하기 위해 만들어졌는데, 이 기능이 최근 많이 사용하는 JSON보다 훨씬 무겁기 때문이다. 그래도 여전히 기존의 오래된 시스템, 흔히 레거시(legacy)라고 하는 시스템에서는 기기 간 또는 컴퓨터와 스마트폰 등의 다른 기가 간의 정보를 XML로 주고받고 있다.\n",
    "\n",
    "# BeautifulSoup\n",
    "* BeautifulSoup 모듈은 일종의 래퍼(wrapper)로, 기존 파싱 기능이 있는 다른 라이브러리를 쉽게 사용할 수 있도록 한다. 전통적인 파이썬 XML 파서(XML parser)에는 lxml과 html5lib 등이 있으며, BeautifulSoup 모듈은 이를 차용하여 데이터를 쉽고 빠르게 처리한다."
   ]
  },
  {
   "cell_type": "code",
   "execution_count": null,
   "outputs": [],
   "source": [
    "soup = BeautifilSoup(\"books_xml\", \"lxml\")\n",
    "soup.find_all(\"author\")\n",
    "\n"
   ],
   "metadata": {
    "collapsed": false,
    "pycharm": {
     "name": "#%%\n"
    }
   }
  }
 ],
 "metadata": {
  "language_info": {
   "codemirror_mode": {
    "name": "ipython",
    "version": 2
   },
   "file_extension": ".py",
   "mimetype": "text/x-python",
   "name": "python",
   "nbconvert_exporter": "python",
   "pygments_lexer": "ipython2",
   "version": "2.7.6"
  },
  "kernelspec": {
   "name": "python3",
   "language": "python",
   "display_name": "Python 3"
  },
  "pycharm": {
   "stem_cell": {
    "cell_type": "raw",
    "source": [],
    "metadata": {
     "collapsed": false
    }
   }
  }
 },
 "nbformat": 4,
 "nbformat_minor": 0
}