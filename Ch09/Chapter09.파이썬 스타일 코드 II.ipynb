{
 "cells": [
  {
   "cell_type": "markdown",
   "metadata": {
    "collapsed": true,
    "pycharm": {
     "name": "#%% md\n"
    }
   },
   "source": [
    "# 파이썬 스타일 코드 II\n",
    "## 1. 람다(lambda) 함수\n",
    "* 람다 함수는 별도의 def나 return을 작성하지 않는다. 단지 앞에는 매개변수의 이름을, 뒤에는 매개변수가 반환하는 결과값인 ‘x + y’를 작성하였다. 이는 기존의 f 함수와 구조는 같고 표현이 다를 뿐이다."
   ]
  },
  {
   "cell_type": "code",
   "execution_count": 1,
   "metadata": {
    "pycharm": {
     "name": "#%%\n"
    }
   },
   "outputs": [
    {
     "name": "stdout",
     "output_type": "stream",
     "text": [
      "5\n",
      "5\n",
      "6\n"
     ]
    }
   ],
   "source": [
    "def f(x, y):\n",
    "    return x+y\n",
    "\n",
    "print(f(1,4))\n",
    "\n",
    "f = lambda x, y : x+y\n",
    "print(f(1, 4))\n",
    "\n",
    "# 익명(Anonymous) 람다식\n",
    "print((lambda x:x+1)(5))"
   ]
  },
  {
   "cell_type": "markdown",
   "metadata": {
    "pycharm": {
     "name": "#%% md\n"
    }
   },
   "source": [
    "## 2. 맵리듀스(MapReduce)\n",
    "* 맵리듀스(MapReduce)는 파이썬뿐 아니라, 빅데이터를 처리하기 위한 기본 알고리즘으로도 많이 사용한다. \n",
    "* 맵리듀스에는 map( ) 함수와 reduce( ) 함수가 있다.\n",
    "### Map()\n",
    "* 연속 데이터를 저장하는 시퀀스형에서 요소마다 같은 기능을 적용할 때 사용한다. 일반적으로 리스트나 튜플처럼 요소가 있는 시퀀스 자료형에 사용된다."
   ]
  },
  {
   "cell_type": "code",
   "execution_count": 17,
   "outputs": [
    {
     "name": "stdout",
     "text": [
      "1\n4\n9\n16\n25\n[1, 4, 9, 16, 25]\n"
     ],
     "output_type": "stream"
    }
   ],
   "source": [
    "ex = [1,2,3,4,5]\n",
    "f = lambda x: x**2\n",
    "# 해당 코드로 함수 f를 ex의 각 요소에 맵핑(mapping)한다.\n",
    "for value in map(f, ex):\n",
    "    print(value)\n",
    "# list로 형 변환을 해야 반환 결과가 list 형태로 나온다.\n",
    "print(list(map(f, ex)))"
   ],
   "metadata": {
    "collapsed": false,
    "pycharm": {
     "name": "#%%\n",
     "is_executing": false
    }
   }
  },
  {
   "cell_type": "markdown",
   "source": [
    "* 최근에는 람다 함수나 map( ) 함수를 프로그램 개발에 사용하는 것을 권장하지 않는다. 굳이 두 함수를 쓰지 않더라도 리스트 컴프리헨션 기법으로 얼마든지 같은 효과를 낼 수 있기 때문이다."
   ],
   "metadata": {
    "collapsed": false
   }
  },
  {
   "cell_type": "code",
   "execution_count": 9,
   "outputs": [
    {
     "data": {
      "text/plain": "[1, 4, 9, 16, 25]"
     },
     "metadata": {},
     "output_type": "execute_result",
     "execution_count": 9
    }
   ],
   "source": [
    "ex = [1,2,3,4,5]\n",
    "[x ** 2 for x in ex]\n"
   ],
   "metadata": {
    "collapsed": false,
    "pycharm": {
     "name": "#%%\n",
     "is_executing": false
    }
   }
  },
  {
   "cell_type": "markdown",
   "source": [
    "* map() 함수의 또 다른 특징은 2개 이상의 시퀀스 자료형 데이터를 처리하는 데도 문제가 없어, 여러 개의 시퀀스 자료형 데이터를 입력값으로 사용할 수 있다는 점이다. 만약 람다 함수를 작성한다면, zip() 함수처럼 2개의 시퀀스 자료형 데이터에서 같은 위치에 있는 값끼리 대응해 계산할 수 있다. \n",
    "\n"
   ],
   "metadata": {
    "collapsed": false
   }
  },
  {
   "cell_type": "code",
   "execution_count": 16,
   "outputs": [
    {
     "name": "stdout",
     "text": [
      "[2, 4, 6, 8, 10]\n[2, 4, 6, 8, 10]\n"
     ],
     "output_type": "stream"
    }
   ],
   "source": [
    "ex = [1,2,3,4,5]\n",
    "f = lambda x, y: x+y\n",
    "print(list(map(f, ex, ex)))\n",
    "# 리스트 컴프리헨션으로 변경\n",
    "print([x + y for x, y in zip(ex, ex)])"
   ],
   "metadata": {
    "collapsed": false,
    "pycharm": {
     "name": "#%%\n",
     "is_executing": false
    }
   }
  },
  {
   "cell_type": "markdown",
   "source": [
    "### Reduce()\n",
    "* reduce( ) 함수는 리스트와 같은 시퀀스 자료형에 차례대로 함수를 적용하여 모든 값을 통합하는 함수이다. \n"
   ],
   "metadata": {
    "collapsed": false
   }
  },
  {
   "cell_type": "code",
   "execution_count": 21,
   "outputs": [
    {
     "name": "stdout",
     "text": [
      "15\n"
     ],
     "output_type": "stream"
    }
   ],
   "source": [
    "from functools import reduce\n",
    "print(reduce(lambda x, y:x+y,[1,2,3,4,5]))"
   ],
   "metadata": {
    "collapsed": false,
    "pycharm": {
     "name": "#%%\n",
     "is_executing": false
    }
   }
  },
  {
   "cell_type": "markdown",
   "source": [
    "* 람다 함수와 맵리듀스는 파이썬 2.x 버전에서 매우 많이 사용하던 함수이다. 최근에는 그 문법의 복잡성 때문에 권장하지 않지만, 여전히 기존 코드와 새롭게 만들어지는 코드에서는 많이 사용하고 있으므로 알아둘 필요가 있다."
   ],
   "metadata": {
    "collapsed": false
   }
  },
  {
   "cell_type": "markdown",
   "source": [
    "## 3. 언패킹\n",
    "* 별표는 여러 개의 데이터를 담는 리스트, 튜플, 딕셔너리와 같은 자료형에서는 해당 데이터를 언패킹하는 기능을 한다. \n",
    "* ast 함수는 a와 args, 2개의 변수를 매개변수로 받는다. 여기서 주의할 점은 args 앞에 별표가 붙지 않았다는 점이다. 따라서 정수형인 a와 튜플형인 args가 매개변수에 입력된다. 핵심은 print(a, *args) 코드이다. 사실 args는 함수에 하나의 변수로 들어갔기 때문에 일반적이라면 다음과 같이 출력되어야 한다.\n"
   ],
   "metadata": {
    "collapsed": false,
    "pycharm": {
     "name": "#%% md\n"
    }
   }
  },
  {
   "cell_type": "code",
   "execution_count": 23,
   "outputs": [
    {
     "name": "stdout",
     "text": [
      "1 (1, 2, 3, 4, 5)\n1 1 2 3 4 5\n"
     ],
     "output_type": "stream"
    }
   ],
   "source": [
    "def ast(a, args):\n",
    "    print(a, args)\n",
    "    print(a, *args)\n",
    "    \n",
    "ast(0, (1,2,3,4,5))\n"
   ],
   "metadata": {
    "collapsed": false,
    "pycharm": {
     "name": "#%%\n",
     "is_executing": false
    }
   }
  }
 ],
 "metadata": {
  "kernelspec": {
   "display_name": "Python 3",
   "language": "python",
   "name": "python3"
  },
  "language_info": {
   "codemirror_mode": {
    "name": "ipython",
    "version": 3
   },
   "file_extension": ".py",
   "mimetype": "text/x-python",
   "name": "python",
   "nbconvert_exporter": "python",
   "pygments_lexer": "ipython3",
   "version": "3.7.3"
  },
  "pycharm": {
   "stem_cell": {
    "cell_type": "raw",
    "source": [],
    "metadata": {
     "collapsed": false
    }
   }
  }
 },
 "nbformat": 4,
 "nbformat_minor": 1
}