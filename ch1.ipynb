{
 "cells": [
  {
   "cell_type": "markdown",
   "metadata": {},
   "source": [
    "# 프로그래밍 언어와 파이썬"
   ]
  },
  {
   "cell_type": "markdown",
   "metadata": {},
   "source": [
    "## 01.프로그래밍 언어의 개념\n",
    "#### 프로그래밍 언어 : 컴퓨터가 이해할 수 있는 언어\n",
    "#### 프로그래밍 : 프로그래밍 언어를 사용하여 프로그램을 개발하는 것\n",
    "#### 프로그래밍 언어는 논리적인 사고를 훈련하기 위해 배워야 한다."
   ]
  },
  {
   "cell_type": "markdown",
   "metadata": {},
   "source": [
    "## 02.파이썬의 소개\n",
    "#### 파이썬은 귀도 반 로섬이 1991년 개발한 언어, C기반, 다양한 기능이 추가\n",
    "#### 파이썬의 특징\n",
    "1. 플랫폼 독립적 : 운영체제에 상관없이 사용 가능  \n",
    "1. 인터프리터 언어 : 소스코드 자체가 바로 실행, 속도는 느리지만, 간편하다\n",
    "1. 객체 지향 언어 : 각 요소들을 결합하여 프로그램을 작성\n",
    "1. 동적 타이핑 언어 : 프로그램 실행 시점에서 각 프로그램 변수의 타입을 결정하는 언어"
   ]
  },
  {
   "cell_type": "markdown",
   "metadata": {},
   "source": [
    "## 파이썬을 배우는 이유\n",
    "#### 1. 쉽고 간단한 프로그래밍 언어\n",
    "#### 2. 다양한 라이브러리 제공\n",
    "#### 3. 대중적인 프로그래밍 언어"
   ]
  }
 ],
 "metadata": {
  "kernelspec": {
   "display_name": "Python 3",
   "language": "python",
   "name": "python3"
  },
  "language_info": {
   "codemirror_mode": {
    "name": "ipython",
    "version": 3
   },
   "file_extension": ".py",
   "mimetype": "text/x-python",
   "name": "python",
   "nbconvert_exporter": "python",
   "pygments_lexer": "ipython3",
   "version": "3.7.3"
  }
 },
 "nbformat": 4,
 "nbformat_minor": 2
}
