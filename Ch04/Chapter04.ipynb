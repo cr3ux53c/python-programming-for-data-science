{
 "cells": [
  {
   "cell_type": "markdown",
   "metadata": {},
   "source": [
    "# 조건문과 반복문"
   ]
  },
  {
   "cell_type": "markdown",
   "metadata": {},
   "source": [
    "## 1. 조건문"
   ]
  },
  {
   "cell_type": "markdown",
   "metadata": {},
   "source": [
    "조건문 : 조건에 따라 특정 동작을 하도록 하는 프로그래밍 명령어  \n",
    "if,else,elif 등등"
   ]
  },
  {
   "cell_type": "markdown",
   "metadata": {},
   "source": [
    "### if-else 문  \n",
    "1. if 뒤에는 조건문이 들어가고 끝나면 반드시 콜론(:)을 붙여야 한다.\n",
    "1. 들여쓰기를 사용하여 해당 조건이 참일 경우 수행할 명령을 작성\n",
    "1. if의 조건이 거짓일 경우 else문이 수행, else문 생략가능"
   ]
  },
  {
   "cell_type": "code",
   "execution_count": 1,
   "metadata": {},
   "outputs": [
    {
     "name": "stdout",
     "output_type": "stream",
     "text": [
      "Tell me your age?\n",
      "31\n",
      "Oh! No. You are not accepted.\n"
     ]
    }
   ],
   "source": [
    "print(\"Tell me your age?\")\n",
    "myage = int(input())\n",
    "if myage < 30:\n",
    "    print(\"Welcome to the Club.\")\n",
    "else:\n",
    "    print(\"Oh! No. You are not accepted.\")"
   ]
  },
  {
   "cell_type": "markdown",
   "metadata": {},
   "source": [
    "### 비교 연산자\n",
    "* x < y | ~보다 작음 | x가 y보다 작은지 검사\n",
    "* x > y | ~보다 큼 | x가 y보다 큰지 검사\n",
    "* x == y | 같음 | x와 y의 값이 같은지 검사\n",
    "* x is y | 같음(메모리 주소) | x와 y의 메모리 주소가 같은지 검사\n",
    "* x != y | 같지 않음 | x와 y의 값이 같지 않은지 검사\n",
    "* x is not y | 같지 않음(메모리 주소) | x와 y의 메모리 주소가 같지 않은지 검사\n",
    "* x >= y | 크거나 같음 | x가 y보다 크거나 같은지 검사\n",
    "* x <= y | 작거나 같음 | x가 y보다 작거나 같은지 검사\n",
    "\n",
    "### 논리 연산자\n",
    "* and 두 값이 모두 참일 경우 True, 그렇지 않을 경우 False\n",
    "* or 두 값 중 하나만 참일 경우 True, 두 값 모두 거짓일 경우 False\n",
    "* not 값을 역으로 반환하여 판단"
   ]
  },
  {
   "cell_type": "markdown",
   "metadata": {},
   "source": [
    "### if-elif-else 문\n",
    "elif = else if의 줄임말"
   ]
  },
  {
   "cell_type": "code",
   "execution_count": 2,
   "metadata": {},
   "outputs": [
    {
     "name": "stdout",
     "output_type": "stream",
     "text": [
      "Enter your score:98\n",
      "A\n"
     ]
    }
   ],
   "source": [
    "score = int(input(\"Enter your score:\"))\n",
    "\n",
    "if score >= 90: grade = 'A'\n",
    "elif score >= 80: grade = 'B'\n",
    "elif score >= 70: grade = 'C'\n",
    "elif score >= 60: grade = 'D'\n",
    "else: grade = 'F'\n",
    "    \n",
    "print(grade)"
   ]
  },
  {
   "cell_type": "markdown",
   "metadata": {},
   "source": [
    "## 반복문\n",
    "### for 문"
   ]
  },
  {
   "cell_type": "code",
   "execution_count": 4,
   "metadata": {},
   "outputs": [
    {
     "name": "stdout",
     "output_type": "stream",
     "text": [
      "hello\n",
      "hello\n",
      "hello\n",
      "hello\n",
      "hello\n"
     ]
    }
   ],
   "source": [
    "#리스트를 활용\n",
    "for looper in [1,2,3,4,5]:\n",
    "    print(\"hello\")"
   ]
  },
  {
   "cell_type": "code",
   "execution_count": 5,
   "metadata": {},
   "outputs": [
    {
     "name": "stdout",
     "output_type": "stream",
     "text": [
      "1\n",
      "2\n",
      "3\n",
      "4\n",
      "5\n"
     ]
    }
   ],
   "source": [
    "#변수를 출력\n",
    "for looper in [1,2,3,4,5]:\n",
    "    print(looper)"
   ]
  },
  {
   "cell_type": "code",
   "execution_count": 6,
   "metadata": {},
   "outputs": [
    {
     "name": "stdout",
     "output_type": "stream",
     "text": [
      "hello\n",
      "hello\n",
      "hello\n",
      "hello\n",
      "hello\n",
      "hello\n",
      "hello\n",
      "hello\n",
      "hello\n",
      "hello\n",
      "hello\n",
      "hello\n",
      "hello\n",
      "hello\n",
      "hello\n",
      "hello\n",
      "hello\n",
      "hello\n",
      "hello\n",
      "hello\n",
      "hello\n",
      "hello\n",
      "hello\n",
      "hello\n",
      "hello\n",
      "hello\n",
      "hello\n",
      "hello\n",
      "hello\n",
      "hello\n",
      "hello\n",
      "hello\n",
      "hello\n",
      "hello\n",
      "hello\n",
      "hello\n",
      "hello\n",
      "hello\n",
      "hello\n",
      "hello\n",
      "hello\n",
      "hello\n",
      "hello\n",
      "hello\n",
      "hello\n",
      "hello\n",
      "hello\n",
      "hello\n",
      "hello\n",
      "hello\n",
      "hello\n",
      "hello\n",
      "hello\n",
      "hello\n",
      "hello\n",
      "hello\n",
      "hello\n",
      "hello\n",
      "hello\n",
      "hello\n",
      "hello\n",
      "hello\n",
      "hello\n",
      "hello\n",
      "hello\n",
      "hello\n",
      "hello\n",
      "hello\n",
      "hello\n",
      "hello\n",
      "hello\n",
      "hello\n",
      "hello\n",
      "hello\n",
      "hello\n",
      "hello\n",
      "hello\n",
      "hello\n",
      "hello\n",
      "hello\n",
      "hello\n",
      "hello\n",
      "hello\n",
      "hello\n",
      "hello\n",
      "hello\n",
      "hello\n",
      "hello\n",
      "hello\n",
      "hello\n",
      "hello\n",
      "hello\n",
      "hello\n",
      "hello\n",
      "hello\n",
      "hello\n",
      "hello\n",
      "hello\n",
      "hello\n",
      "hello\n"
     ]
    }
   ],
   "source": [
    "#range 키워드 사용\n",
    "for looper in range(100):\n",
    "    print(\"hello\")"
   ]
  },
  {
   "cell_type": "code",
   "execution_count": 7,
   "metadata": {},
   "outputs": [
    {
     "name": "stdout",
     "output_type": "stream",
     "text": [
      "a\n",
      "b\n",
      "c\n",
      "d\n",
      "e\n",
      "f\n",
      "g\n"
     ]
    }
   ],
   "source": [
    "#문자열을 활용\n",
    "for i in 'abcdefg':\n",
    "    print(i)"
   ]
  },
  {
   "cell_type": "code",
   "execution_count": 8,
   "metadata": {},
   "outputs": [
    {
     "name": "stdout",
     "output_type": "stream",
     "text": [
      "americano\n",
      "latte\n",
      "frappuccino\n"
     ]
    }
   ],
   "source": [
    "#문자열로 이루어진 리스트\n",
    "for i in ['americano', 'latte', 'frappuccino']:\n",
    "    print(i)"
   ]
  },
  {
   "cell_type": "code",
   "execution_count": 9,
   "metadata": {},
   "outputs": [
    {
     "name": "stdout",
     "output_type": "stream",
     "text": [
      "1\n",
      "3\n",
      "5\n",
      "7\n",
      "9\n"
     ]
    }
   ],
   "source": [
    "#range(시작 번호, 마지막 번호, 증가값)\n",
    "for i in range(1,10,2):\n",
    "    print(i)"
   ]
  },
  {
   "cell_type": "code",
   "execution_count": 10,
   "metadata": {},
   "outputs": [
    {
     "name": "stdout",
     "output_type": "stream",
     "text": [
      "10\n",
      "9\n",
      "8\n",
      "7\n",
      "6\n",
      "5\n",
      "4\n",
      "3\n",
      "2\n"
     ]
    }
   ],
   "source": [
    "#증가값이 -일때\n",
    "for i in range(10,1,-1):\n",
    "    print(i)"
   ]
  },
  {
   "cell_type": "markdown",
   "metadata": {},
   "source": [
    "### while 문"
   ]
  },
  {
   "cell_type": "code",
   "execution_count": 11,
   "metadata": {},
   "outputs": [
    {
     "name": "stdout",
     "output_type": "stream",
     "text": [
      "1\n",
      "2\n",
      "3\n",
      "4\n",
      "5\n",
      "6\n",
      "7\n",
      "8\n",
      "9\n"
     ]
    }
   ],
   "source": [
    "i = 1\n",
    "while i<10:\n",
    "    print(i)\n",
    "    i += 1"
   ]
  },
  {
   "cell_type": "markdown",
   "metadata": {},
   "source": [
    "### 반복문 제어"
   ]
  },
  {
   "cell_type": "code",
   "execution_count": 12,
   "metadata": {},
   "outputs": [
    {
     "name": "stdout",
     "output_type": "stream",
     "text": [
      "0\n",
      "1\n",
      "2\n",
      "3\n",
      "4\n",
      "End of Program\n"
     ]
    }
   ],
   "source": [
    "#break만나면 반복문 종료\n",
    "for i in range(10):\n",
    "    if i == 5: break\n",
    "    print(i)\n",
    "print(\"End of Program\")"
   ]
  },
  {
   "cell_type": "code",
   "execution_count": 13,
   "metadata": {},
   "outputs": [
    {
     "name": "stdout",
     "output_type": "stream",
     "text": [
      "0\n",
      "1\n",
      "2\n",
      "3\n",
      "4\n",
      "6\n",
      "7\n",
      "8\n",
      "9\n",
      "End of Program\n"
     ]
    }
   ],
   "source": [
    "#continue만나면 다음 반복문 수행\n",
    "for i in range(10):\n",
    "    if i == 5: continue\n",
    "    print(i)\n",
    "print(\"End of Program\")"
   ]
  },
  {
   "cell_type": "code",
   "execution_count": 14,
   "metadata": {},
   "outputs": [
    {
     "name": "stdout",
     "output_type": "stream",
     "text": [
      "0\n",
      "1\n",
      "2\n",
      "3\n",
      "4\n",
      "5\n",
      "6\n",
      "7\n",
      "8\n",
      "9\n",
      "End of Program\n"
     ]
    }
   ],
   "source": [
    "#조건이 완전히 끝났을때 한번 더 실행, break로 탈출시 실행 안 함\n",
    "for i in range(10):\n",
    "    print(i)\n",
    "else:\n",
    "    print(\"End of Program\")"
   ]
  },
  {
   "cell_type": "markdown",
   "metadata": {},
   "source": [
    "## 함수가 작동하는지 확인하는 방법"
   ]
  },
  {
   "cell_type": "code",
   "execution_count": 15,
   "metadata": {},
   "outputs": [
    {
     "name": "stdout",
     "output_type": "stream",
     "text": [
      "15\n",
      "50\n",
      "25.0\n"
     ]
    }
   ],
   "source": [
    "def addition(x,y):\n",
    "    return x+y\n",
    "\n",
    "def multiplication(x,y):\n",
    "    return x*y\n",
    "\n",
    "def divided_by_2(x):\n",
    "    return x/2\n",
    "#이 밑으로 테스트 할 코드들 작성\n",
    "if __name__ == '__main__':\n",
    "    print(addition(10,5))\n",
    "    print(multiplication(10,5))\n",
    "    print(divided_by_2(50))"
   ]
  }
 ],
 "metadata": {
  "kernelspec": {
   "display_name": "Python 3",
   "language": "python",
   "name": "python3"
  },
  "language_info": {
   "codemirror_mode": {
    "name": "ipython",
    "version": 3
   },
   "file_extension": ".py",
   "mimetype": "text/x-python",
   "name": "python",
   "nbconvert_exporter": "python",
   "pygments_lexer": "ipython3",
   "version": "3.7.3"
  }
 },
 "nbformat": 4,
 "nbformat_minor": 2
}
