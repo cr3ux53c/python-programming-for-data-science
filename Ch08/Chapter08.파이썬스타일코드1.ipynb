{
 "cells": [
  {
   "cell_type": "markdown",
   "metadata": {},
   "source": [
    "# 파이썬 스타일 코드의 이해\n",
    "\n",
    "## 파이썬 스타일 코드의 개념\n",
    "\n",
    "**파이썬 스타일 코드(Pythonic code)** : 파이썬 스타일의 코드 작성 기법\n",
    "\n",
    "특별한 문법이 아니라, 파이썬에서 기본적으로 제공하는 문법들을 활용하여 코딩하는 것\n",
    "\n",
    "파이썬 스타일 코드의 대표적인 예로, 다음과 같이 for문을 사용하여 여러 단어를 붙이는 경우"
   ]
  },
  {
   "cell_type": "code",
   "execution_count": 1,
   "metadata": {},
   "outputs": [
    {
     "name": "stdout",
     "output_type": "stream",
     "text": [
      "redbludgreenyellow\n"
     ]
    }
   ],
   "source": [
    "colors=['red','blud','green','yellow']\n",
    "result=''\n",
    "for s in colors:\n",
    "    result+=s\n",
    "    \n",
    "print(result)"
   ]
  },
  {
   "cell_type": "markdown",
   "metadata": {},
   "source": [
    "가장 간단한 코딩 방법"
   ]
  },
  {
   "cell_type": "code",
   "execution_count": 2,
   "metadata": {},
   "outputs": [
    {
     "name": "stdout",
     "output_type": "stream",
     "text": [
      "redbludgreenyellow\n"
     ]
    }
   ],
   "source": [
    "colors=['red','blud','green','yellow']\n",
    "result=''.join(colors)\n",
    "    \n",
    "print(result)"
   ]
  },
  {
   "cell_type": "markdown",
   "metadata": {},
   "source": [
    "## 파이썬 스타일 코드를 사용하는 이유\n",
    "\n",
    "파이썬 스타일 코드가 생긴 이유는 바로 파이썬의 철학 때문이다.\n",
    "\n",
    "파이썬은 기본적으로 '인간의 시간이 컴퓨터의 시간보다 더 중요하다' 라는 개념을 가지고 있어, 코드상 사람이 해야 하는 일을 최대한 줄이면서 같은 목표를 달성할 수 있는 문법체계를 가지고 있다.\n",
    "\n",
    "유명한 오픈소스부터 다양한 예제코드까지 파이썬 스타일 코드로 작성된 경우가 많음. 그러므로 파이썬 스타일 코드를 사용하면 다른 사람이 작성한 코드를 쉽게 이해 할 수 있다.\n",
    "\n",
    "파이썬 스타일 코드가 익숙해지면 코드 자체도 간결해지고 코드 작성 시간도 줄일 수 있다.\n",
    "\n",
    "---\n",
    "\n",
    "## 사용 코드 : split(),join(),enumerate(),zip()"
   ]
  },
  {
   "cell_type": "markdown",
   "metadata": {},
   "source": [
    "---\n",
    "# 문자열의 분리 및 결합\n",
    "\n",
    "## 문자열의 분리 : split() 함수\n",
    "\n",
    "**split() 함수** : 문자열의 값을 특정 값을 기준으로 분리하여 리스트 형태로 변환하는 방법."
   ]
  },
  {
   "cell_type": "code",
   "execution_count": 4,
   "metadata": {},
   "outputs": [
    {
     "name": "stdout",
     "output_type": "stream",
     "text": [
      "['zero', 'one', 'tow', 'three']\n"
     ]
    }
   ],
   "source": [
    "items = 'zero one tow three'.split()\n",
    "print(items)"
   ]
  },
  {
   "cell_type": "code",
   "execution_count": 34,
   "metadata": {},
   "outputs": [
    {
     "data": {
      "text/plain": [
       "['python', 'jquery', 'javascript']"
      ]
     },
     "execution_count": 34,
     "metadata": {},
     "output_type": "execute_result"
    }
   ],
   "source": [
    "example='python,jquery,javascript'\n",
    "example.split(\",\")"
   ]
  },
  {
   "cell_type": "code",
   "execution_count": 35,
   "metadata": {},
   "outputs": [
    {
     "name": "stdout",
     "output_type": "stream",
     "text": [
      "python jquery javascript\n"
     ]
    }
   ],
   "source": [
    "a,b,c=example.split(\",\")\n",
    "print(a,b,c)"
   ]
  },
  {
   "cell_type": "markdown",
   "metadata": {},
   "source": [
    "## 문자열의 결합 : join() 함수\n",
    "\n",
    "**join() 함수** : 문자열로 구성된 리스트를 합쳐 하나의 문자열로 반환할 때 사용.\n",
    "\n",
    "join() 함수를 사용하는 방법 : 구분자,join(리스트형) 형태로 사용"
   ]
  },
  {
   "cell_type": "code",
   "execution_count": 12,
   "metadata": {},
   "outputs": [
    {
     "data": {
      "text/plain": [
       "'red (구분자) blue (구분자) green (구분자) yellow'"
      ]
     },
     "execution_count": 12,
     "metadata": {},
     "output_type": "execute_result"
    }
   ],
   "source": [
    "colors=['red','blue','green','yellow']\n",
    "result=' (구분자) '.join(colors)\n",
    "result"
   ]
  },
  {
   "cell_type": "markdown",
   "metadata": {},
   "source": [
    "---\n",
    "\n",
    "# 리스트 컴프리헨션\n",
    "\n",
    "## 리스트 컴프리헨션 다루기\n",
    "\n",
    "리스트 컴프리헨션(List Comprehension)의 기본 개념은 기존 리스트형을 사용하여 간단하게 새로운 리스트를 만드는 기법이다. 리스트와 for문을 한 줄에 사용할 수 있는 장점이 있다.\n",
    "\n",
    "일반적인 반복문 + 리스트"
   ]
  },
  {
   "cell_type": "code",
   "execution_count": 13,
   "metadata": {},
   "outputs": [
    {
     "data": {
      "text/plain": [
       "[0, 1, 2, 3, 4, 5, 6, 7, 8, 9]"
      ]
     },
     "execution_count": 13,
     "metadata": {},
     "output_type": "execute_result"
    }
   ],
   "source": [
    "result=[]\n",
    "for i in range(10):\n",
    "    result.append(i)\n",
    "    \n",
    "result"
   ]
  },
  {
   "cell_type": "markdown",
   "metadata": {},
   "source": [
    "리스트 컴프리헨션"
   ]
  },
  {
   "cell_type": "code",
   "execution_count": 19,
   "metadata": {},
   "outputs": [
    {
     "data": {
      "text/plain": [
       "[0, 1, 2, 3, 4, 5, 6, 7, 8, 9]"
      ]
     },
     "execution_count": 19,
     "metadata": {},
     "output_type": "execute_result"
    }
   ],
   "source": [
    "result=[i for i in range(10)]\n",
    "result"
   ]
  },
  {
   "cell_type": "markdown",
   "metadata": {},
   "source": [
    "## 리스트 컴프리헨션 용법 : 필터링\n",
    "\n",
    "필터링은 if문과 함께 사용하는 리스트 컴프리헨션이다. 일반적으로 짝수만 저장하기 위해서는 다음과 같은 코드를 작성해야 한다.\n",
    "\n",
    "일반적인 반복문 + 리스트"
   ]
  },
  {
   "cell_type": "code",
   "execution_count": 26,
   "metadata": {},
   "outputs": [
    {
     "data": {
      "text/plain": [
       "[0, 2, 4, 6, 8]"
      ]
     },
     "execution_count": 26,
     "metadata": {},
     "output_type": "execute_result"
    }
   ],
   "source": [
    "result=[]\n",
    "for i in range(10):\n",
    "    if i%2==0:\n",
    "        result.append(i)\n",
    "        \n",
    "result"
   ]
  },
  {
   "cell_type": "markdown",
   "metadata": {},
   "source": [
    "리스트 컴프리헨션"
   ]
  },
  {
   "cell_type": "code",
   "execution_count": 2,
   "metadata": {},
   "outputs": [
    {
     "data": {
      "text/plain": [
       "[0, 2, 4, 6, 8]"
      ]
     },
     "execution_count": 2,
     "metadata": {},
     "output_type": "execute_result"
    }
   ],
   "source": [
    "result=[i for i in range(10) if i%2==0]\n",
    "result"
   ]
  },
  {
   "cell_type": "code",
   "execution_count": 4,
   "metadata": {},
   "outputs": [
    {
     "data": {
      "text/plain": [
       "[0, 'odd', 2, 'odd', 4, 'odd', 6, 'odd', 8, 'odd']"
      ]
     },
     "execution_count": 4,
     "metadata": {},
     "output_type": "execute_result"
    }
   ],
   "source": [
    "result=[i if i%2==0 else \"odd\" for i in range(10)]\n",
    "result"
   ]
  },
  {
   "cell_type": "markdown",
   "metadata": {},
   "source": [
    "## 리스트 컴프리헨션 용법 : 중첩 반복문\n",
    "\n",
    "리스트 컴프리헨션에서도 기존처럼 리스트 2개를 섞어 사용할 수 있다.\n",
    "\n",
    "다음과 같이 2개의 for문을 만들 수 있다. (2중for문)"
   ]
  },
  {
   "cell_type": "code",
   "execution_count": 27,
   "metadata": {},
   "outputs": [
    {
     "data": {
      "text/plain": [
       "['Hw',\n",
       " 'Ho',\n",
       " 'Hr',\n",
       " 'Hl',\n",
       " 'Hd',\n",
       " 'Ew',\n",
       " 'Eo',\n",
       " 'Er',\n",
       " 'El',\n",
       " 'Ed',\n",
       " 'Lw',\n",
       " 'Lo',\n",
       " 'Lr',\n",
       " 'Ll',\n",
       " 'Ld',\n",
       " 'Lw',\n",
       " 'Lo',\n",
       " 'Lr',\n",
       " 'Ll',\n",
       " 'Ld',\n",
       " 'Ow',\n",
       " 'Oo',\n",
       " 'Or',\n",
       " 'Ol',\n",
       " 'Od']"
      ]
     },
     "execution_count": 27,
     "metadata": {},
     "output_type": "execute_result"
    }
   ],
   "source": [
    "word_1=\"HELLO\"\n",
    "word_2=\"world\"\n",
    "result=[i+j for i in word_1 for j in word_2]\n",
    "result"
   ]
  },
  {
   "cell_type": "markdown",
   "metadata": {},
   "source": [
    "중첩 반목문에서도 필터링을 적용할 수 있다. 반복문 끝에 if문을 추가하면 된다."
   ]
  },
  {
   "cell_type": "code",
   "execution_count": 5,
   "metadata": {},
   "outputs": [
    {
     "data": {
      "text/plain": [
       "['AD', 'AE', 'BD', 'BE', 'BA', 'CD', 'CE', 'CA']"
      ]
     },
     "execution_count": 5,
     "metadata": {},
     "output_type": "execute_result"
    }
   ],
   "source": [
    "case_1=[\"A\",\"B\",\"C\"]\n",
    "case_2=[\"D\",\"E\",\"A\"]\n",
    "result=[i+j for i in case_1 for j in case_2 if not(i==j)]\n",
    "result"
   ]
  },
  {
   "cell_type": "markdown",
   "metadata": {},
   "source": [
    "## 리스트 컴프리헨션 용법 : 이차원 리스트\n",
    "\n",
    "비슷한 방식으로 이차원 리스트를 만들 수 있다.\n",
    "\n",
    "하나의 정보를 열(row)단위로 저장하는 이차원 리스트는 다음과 같이 만들 수 있다."
   ]
  },
  {
   "cell_type": "code",
   "execution_count": 30,
   "metadata": {},
   "outputs": [
    {
     "name": "stdout",
     "output_type": "stream",
     "text": [
      "['The', 'quick', 'brown', 'fox', 'jumps', 'over', 'the', 'lazy', 'dog']\n"
     ]
    }
   ],
   "source": [
    "words='The quick brown fox jumps over the lazy dog'.split()\n",
    "print(words)"
   ]
  },
  {
   "cell_type": "code",
   "execution_count": 31,
   "metadata": {},
   "outputs": [
    {
     "name": "stdout",
     "output_type": "stream",
     "text": [
      "[['THE', 'the', 3], ['QUICK', 'quick', 5], ['BROWN', 'brown', 5], ['FOX', 'fox', 3], ['JUMPS', 'jumps', 5], ['OVER', 'over', 4], ['THE', 'the', 3], ['LAZY', 'lazy', 4], ['DOG', 'dog', 3]]\n"
     ]
    }
   ],
   "source": [
    "stuff=[[w.upper(),w.lower(),len(w)] for w in words]\n",
    "print(stuff)"
   ]
  },
  {
   "cell_type": "markdown",
   "metadata": {},
   "source": [
    "---"
   ]
  },
  {
   "cell_type": "code",
   "execution_count": 64,
   "metadata": {
    "scrolled": true
   },
   "outputs": [
    {
     "data": {
      "text/plain": [
       "['AD', 'AE', 'AA', 'BD', 'BE', 'BA', 'CD', 'CE', 'CA']"
      ]
     },
     "execution_count": 64,
     "metadata": {},
     "output_type": "execute_result"
    }
   ],
   "source": [
    "result=[i+j for i in case_1 for j in case_2]\n",
    "result"
   ]
  },
  {
   "cell_type": "code",
   "execution_count": 39,
   "metadata": {},
   "outputs": [
    {
     "data": {
      "text/plain": [
       "[['AD', 'BD', 'CD'], ['AE', 'BE', 'CE'], ['AA', 'BA', 'CA']]"
      ]
     },
     "execution_count": 39,
     "metadata": {},
     "output_type": "execute_result"
    }
   ],
   "source": [
    "result=[[i+j for i in case_1] for j in case_2]\n",
    "result"
   ]
  },
  {
   "cell_type": "markdown",
   "metadata": {},
   "source": [
    "첫번째 코드는 일차원 리스트를 만드는 코드로, 앞의 for문이 먼저 실행된다, 두번째 코드는 이차원 리스트를 만드는 코드로, 뒤의 for문이 먼저 실행된다."
   ]
  },
  {
   "cell_type": "markdown",
   "metadata": {},
   "source": [
    "## 리스트 컴프리헨션의 성능"
   ]
  },
  {
   "cell_type": "code",
   "execution_count": 6,
   "metadata": {},
   "outputs": [
    {
     "name": "stdout",
     "output_type": "stream",
     "text": [
      "7.828674399999954\n"
     ]
    }
   ],
   "source": [
    "import timeit\n",
    "def scalar_vector_product(scalar,vector):\n",
    "    result=[]\n",
    "    for value in vector:\n",
    "        result.append(scalar*value)\n",
    "    return result\n",
    "\n",
    "start=timeit.default_timer()\n",
    "\n",
    "iteration_max=10000\n",
    "\n",
    "vector=list(range(iteration_max))\n",
    "scalar=2\n",
    "\n",
    "for _ in range(iteration_max):\n",
    "    scalar_vector_product(scalar,vector)\n",
    "    \n",
    "stop=timeit.default_timer()\n",
    "print(stop-start)"
   ]
  },
  {
   "cell_type": "code",
   "execution_count": 8,
   "metadata": {},
   "outputs": [
    {
     "name": "stdout",
     "output_type": "stream",
     "text": [
      "7.231272099999956\n"
     ]
    }
   ],
   "source": [
    "start=timeit.default_timer()\n",
    "\n",
    "iteration_max=10000\n",
    "vector=list(range(iteration_max))\n",
    "scalar=2\n",
    "for _ in range(iteration_max):\n",
    "    [scalar * value for value in range(iteration_max)]\n",
    "    \n",
    "stop=timeit.default_timer()\n",
    "print(stop-start)"
   ]
  },
  {
   "cell_type": "markdown",
   "metadata": {},
   "source": [
    "---\n",
    "\n",
    "## 다양한 방식의 리스트값 출력\n",
    "\n",
    "### 리스트값에 인덱스를 붙여 출력 : enumerate()함수\n",
    "\n",
    "enumerate() 함수는 리스트값을 추출할 때 인덱스를 붙여 함께 출력하는 방법이다."
   ]
  },
  {
   "cell_type": "code",
   "execution_count": 56,
   "metadata": {},
   "outputs": [
    {
     "name": "stdout",
     "output_type": "stream",
     "text": [
      "0 tic\n",
      "1 tac\n",
      "2 toe\n"
     ]
    }
   ],
   "source": [
    "for i, v in enumerate(['tic','tac','toe']):\n",
    "    print(i,v)"
   ]
  },
  {
   "cell_type": "markdown",
   "metadata": {},
   "source": [
    "enmuerate() 함수는 주로 딕셔너리형으로, 인덱스를 키로, 단어를 값으로 하여 쌍으로 묶어 결과를 출력하는 방식을 사용한다."
   ]
  },
  {
   "cell_type": "code",
   "execution_count": 5,
   "metadata": {},
   "outputs": [
    {
     "data": {
      "text/plain": [
       "{0: 'TEAMLAB',\n",
       " 1: 'is',\n",
       " 2: 'an',\n",
       " 3: 'academic',\n",
       " 4: 'institute',\n",
       " 5: 'located',\n",
       " 6: 'in',\n",
       " 7: 'South',\n",
       " 8: 'Korea'}"
      ]
     },
     "execution_count": 5,
     "metadata": {},
     "output_type": "execute_result"
    }
   ],
   "source": [
    "{i:j for i,j in enumerate('TEAMLAB is an academic institute located in South Korea'.split())}"
   ]
  },
  {
   "cell_type": "markdown",
   "metadata": {},
   "source": [
    "## 리스트값을 병렬로 묶어 출력 : zip() 함수\n",
    "\n",
    "zip() 함수는 1개 이상의 리스트값이 **같은 인덱스**에 있을 때 병렬로 묶는 함수이다."
   ]
  },
  {
   "cell_type": "code",
   "execution_count": 10,
   "metadata": {},
   "outputs": [
    {
     "name": "stdout",
     "output_type": "stream",
     "text": [
      "a1 b1\n",
      "a2 b2\n",
      "a3 b3\n",
      "a b\n"
     ]
    }
   ],
   "source": [
    "alist=['a1','a2','a3',\"a\"]\n",
    "blist=['b1','b2','b3',\"b\",\"b\"]\n",
    "for a,b in zip(alist,blist):\n",
    "    print(a,b)"
   ]
  },
  {
   "cell_type": "code",
   "execution_count": 61,
   "metadata": {},
   "outputs": [
    {
     "data": {
      "text/plain": [
       "[111, 222, 333]"
      ]
     },
     "execution_count": 61,
     "metadata": {},
     "output_type": "execute_result"
    }
   ],
   "source": [
    "[sum(x) for x in zip((1,2,3),(10,20,30),(100,200,300))]"
   ]
  },
  {
   "cell_type": "code",
   "execution_count": 11,
   "metadata": {},
   "outputs": [
    {
     "name": "stdout",
     "output_type": "stream",
     "text": [
      "0 a1 b1\n",
      "1 a2 b2\n",
      "2 a3 b3\n",
      "3 a b\n"
     ]
    }
   ],
   "source": [
    "for i,(a,b) in enumerate(zip(alist,blist)):\n",
    "    print(i,a,b)"
   ]
  },
  {
   "cell_type": "code",
   "execution_count": null,
   "metadata": {},
   "outputs": [],
   "source": []
  }
 ],
 "metadata": {
  "kernelspec": {
   "display_name": "Python 3",
   "language": "python",
   "name": "python3"
  },
  "language_info": {
   "codemirror_mode": {
    "name": "ipython",
    "version": 3
   },
   "file_extension": ".py",
   "mimetype": "text/x-python",
   "name": "python",
   "nbconvert_exporter": "python",
   "pygments_lexer": "ipython3",
   "version": "3.7.1"
  }
 },
 "nbformat": 4,
 "nbformat_minor": 2
}
