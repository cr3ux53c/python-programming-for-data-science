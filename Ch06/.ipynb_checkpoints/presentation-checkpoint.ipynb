{
 "cells": [
  {
   "cell_type": "markdown",
   "metadata": {
    "collapsed": true,
    "pycharm": {
     "name": "#%% md\n"
    }
   },
   "source": [
    "# 문자열\n",
    "### 리스트와 같이 순차적으로 메모리에 저장하는 방식\n",
    "### 리스트처럼 인덱싱 및 슬라이싱 가능\n",
    "### count( ) 함수 : 해당 문자열에서 특정 문자가 포함된 개수를 반환 \n",
    "### isdigit( ) 함수 : 해당 문자열이 숫자인지를 True 또는 False로 값을 반환"
   ]
  },
  {
   "cell_type": "code",
   "execution_count": 4,
   "metadata": {
    "pycharm": {
     "name": "#%%\n"
    }
   },
   "outputs": [
    {
     "name": "stdout",
     "output_type": "stream",
     "text": [
      "hello, world!\n",
      "h !\n",
      "! h\n"
     ]
    }
   ],
   "source": [
    "### 여러 줄 문자열 입력\n",
    "test = 'hello, world!'\n",
    "print(test)\n",
    "\n",
    "html = \"\"\"\n",
    "<!DOCTYPE html>\n",
    "<html lang=\"en\">\n",
    "<head>\n",
    "    <meta charset=\"UTF-8\">\n",
    "    <meta name=\"viewport\" content=\"width=device-width, initial-scale=1.0\">\n",
    "    <meta http-equiv=\"X-UA-Compatible\" content=\"ie=edge\">\n",
    "    <title>Document</title>\n",
    "</head>\n",
    "<body>\n",
    "    \n",
    "</body>\n",
    "</html>\n",
    "\"\"\"\n",
    "\n",
    "print(test[0], test[-1])\n",
    "print(test[-1],test[0])\n"
   ]
  },
  {
   "cell_type": "markdown",
   "metadata": {
    "pycharm": {
     "name": "#%% md\n"
    }
   },
   "source": [
    "## 1. 이스케이프 시퀀스(Escape Sequence)\n",
    "### 문자열 안에 따옴표 넣으려면..."
   ]
  },
  {
   "cell_type": "code",
   "execution_count": 6,
   "metadata": {
    "pycharm": {
     "name": "#%%\n"
    }
   },
   "outputs": [
    {
     "name": "stdout",
     "output_type": "stream",
     "text": [
      "It's OK\n",
      "He said, \"Hi\"\n",
      "It's OK\n"
     ]
    }
   ],
   "source": [
    "print(\"It's OK\")\n",
    "print('He said, \"Hi\"')\n",
    "print('It\\'s OK')\n"
   ]
  },
  {
   "cell_type": "markdown",
   "metadata": {},
   "source": [
    "## 2. 문자열 서식\n",
    "### print( ) 함수를 사용하다 보면 어떤 형식에 맞추어 결과를 출력해야 할 일이 발생하기도 한다. 특히 엑셀을 사용할 때 통화 단위, 세 자리 숫자 단위 띄어쓰기, % 출력 등 다양한 형식에 맞추어 출력할 일이 생기는데, 이를 서식 지정(formatting)이라고 한다. \n"
   ]
  },
  {
   "cell_type": "code",
   "execution_count": 7,
   "metadata": {
    "pycharm": {
     "is_executing": false,
     "name": "#%%\n"
    }
   },
   "outputs": [
    {
     "name": "stdout",
     "output_type": "stream",
     "text": [
      "1 2 3\n",
      "a b c\n",
      "1 2 3\n",
      "a b c\n",
      "I eat 3 apples.\n",
      "I eat five apples.\n",
      "I ate 3 apples. I was sick for three days.\n",
      "I'm 40 years old.\n",
      "My name is Sungchul Choi and 40 years old.\n",
      "Product: Apple, Price per unit: 5.24.\n",
      "23        \n",
      "I ate 3 apples. I was sick for three days.\n"
     ]
    }
   ],
   "source": [
    "# 문자열의 서식(format)을 설정할 때, print( ) 함수는 기본적인 출력 형식 외에 % 서식과 format( ) 함수를 구문으로 사용하여 출력 양식을 지정할 수 있다. \n",
    "print(1, 2, 3)\n",
    "print(\"a\" + \" \" + \"b\" + \" \" + \"c\")\n",
    "print(\"%d %d %d\" % (1, 2, 3))\n",
    "print(\"{} {} {}\".format(\"a\", \"b\", \"c\"))\n",
    "# 이런 식으로 서식을 지정하여 출력하면 어떤 장점이 있을까?\n",
    "#   데이터와 출력 형식을 분류할 수 있다. 같은 내용을 여러 번 출력하기 위해 기존pr int( )문에 띄어쓰기를 넣어 + 기호로 문자열 형태를 붙여 주는 것보다 시각적으로 훨씬 이해하기 쉽게 코드를 표현할 수 있다.\n",
    "#    데이터를 형식에 따라 다르게 표현할 수 있다. [코드 6-3]을 보면 문자열 형태인 ('one', 'two') 구문과 정수형인 (1, 2) 구문이 각각 %s와 %d로 다르게 할당되는 것을 확인할 수 있다. 서식 지정 기능은 각 변수의 자료형에 맞게 다른 서식으로 지정한다\n",
    "\n",
    "print(\"I eat %d apples.\" % 3)\n",
    "print(\"I eat %s apples.\" % \"five\")\n",
    "# 문자열, 문자, 정수, 실수\n",
    "\n",
    "number = 3\n",
    "day = \"three\"\n",
    "print(\"I ate %d apples. I was sick for %s days.\" % (number, day))\n",
    "\n",
    "age = 40; name='Sungchul Choi'\n",
    "print(\"I'm {0} years old.\".format(age))\n",
    "print(\"My name is {0} and {1} years old.\".format(name, age))\n",
    "print(\"Product: {0}, Price per unit: {1:.2f}.\".format(\"Apple\", 5.243))\n",
    "\n",
    "# 패딩(Padding)\n",
    "print(\"%-10d\" % 23)\n",
    "\n",
    "# 첫 번째 줄의 print(\"%10d\" % 12)는 10자리의 공간을 확보하고, 우측 정렬로 12를 출력하라는 명령이다. 기본 정렬이 우측 정렬이므로 좌측에서 아홉 번째 칸부터 12가 출력된다. 좌측정렬을 하기 위해서는 세 번째 줄처럼 - 부호를 붙이면 된다.\n",
    "\n",
    "# 네이밍\n",
    "print(\"I ate %(num)d apples. I was sick for %(str)s days.\" % {\"num\":number, \"str\":day})\n"
   ]
  }
 ],
 "metadata": {
  "kernelspec": {
   "display_name": "Python 3",
   "language": "python",
   "name": "python3"
  },
  "language_info": {
   "codemirror_mode": {
    "name": "ipython",
    "version": 3
   },
   "file_extension": ".py",
   "mimetype": "text/x-python",
   "name": "python",
   "nbconvert_exporter": "python",
   "pygments_lexer": "ipython3",
   "version": "3.7.3"
  },
  "pycharm": {
   "stem_cell": {
    "cell_type": "raw",
    "metadata": {
     "collapsed": false
    },
    "source": []
   }
  }
 },
 "nbformat": 4,
 "nbformat_minor": 1
}
