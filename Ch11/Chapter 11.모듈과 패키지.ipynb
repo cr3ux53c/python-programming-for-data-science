{
 "cells": [
  {
   "cell_type": "markdown",
   "metadata": {},
   "source": [
    "# 모듈과 패키지\n",
    "\n",
    "## 모듈의 개념\n",
    "\n",
    "프로그래밍에서의 모듈 = 작은 프로그램 조각\n",
    "\n",
    "모듈화된 프로그램을 사용하면, 다른 개발자가 만든 프로그램이나 자신이 만든 프로그램을 매우 쉽게 사용하거나 제공할 수 있다.\n",
    "\n",
    "## 내장 모듈\n",
    "\n",
    "**내장 모듈**이라고 하여 파이썬에서 기본적으로 제공하는 모듈 중 대표적으로 random 모듈이 있다.\n",
    "\n",
    "random모듈 = 난수를 쉽게 생성해 주는 모듈"
   ]
  },
  {
   "cell_type": "code",
   "execution_count": 2,
   "metadata": {},
   "outputs": [
    {
     "data": {
      "text/plain": [
       "577"
      ]
     },
     "execution_count": 2,
     "metadata": {},
     "output_type": "execute_result"
    }
   ],
   "source": [
    "import random\n",
    "random.randint(1,1000)"
   ]
  },
  {
   "cell_type": "markdown",
   "metadata": {},
   "source": [
    "randint(최소,최대) : 입력 파라미터인 최소부터 최소까지 중 임의의 **정수**를 리턴한다. 반환형식=정수\n",
    "\n",
    "random() : 0부터 1 사이의 임의의 float. 반환형식=float\n",
    "\n",
    "uniform(최소,최대) : 최소부터 최대 사이의 임의의 float. 반환형식=float\n",
    "\n",
    "randrange(시작,끝[,간격]) : 입력 파라미터인 시작부터 끝값까지 (지정된 간격으로 나열된) 숫자 중 임의의 정수를 리턴한다."
   ]
  },
  {
   "cell_type": "markdown",
   "metadata": {},
   "source": [
    "   "
   ]
  },
  {
   "cell_type": "markdown",
   "metadata": {},
   "source": []
  },
  {
   "cell_type": "markdown",
   "metadata": {},
   "source": []
  }
 ],
 "metadata": {
  "kernelspec": {
   "display_name": "Python 3",
   "language": "python",
   "name": "python3"
  },
  "language_info": {
   "codemirror_mode": {
    "name": "ipython",
    "version": 3
   },
   "file_extension": ".py",
   "mimetype": "text/x-python",
   "name": "python",
   "nbconvert_exporter": "python",
   "pygments_lexer": "ipython3",
   "version": "3.7.1"
  }
 },
 "nbformat": 4,
 "nbformat_minor": 2
}
